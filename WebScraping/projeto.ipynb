{
 "cells": [
  {
   "cell_type": "markdown",
   "metadata": {},
   "source": [
    "## Objetivo\n",
    "O intuito deste projeto é, utilizando Selenium, navegar até uma página da Wikipedia relacionada a um assunto de interesse, salvar o conteúdo HTML desta página e extrair a tabela relevante utilizando BeautifulSoup e, por fim processar dados desta tabela utilizando a biblioteca Pandas"
   ]
  },
  {
   "cell_type": "code",
   "execution_count": null,
   "metadata": {},
   "outputs": [],
   "source": [
    "from selenium import webdriver\n",
    "from selenium.webdriver.common.by import By\n",
    "from bs4 import BeautifulSoup\n",
    "import pandas as pd\n",
    "\n",
    "url = \"https://pt.wikipedia.org/wiki/Wikip%C3%A9dia:P%C3%A1gina_principal\"\n",
    "\n",
    "tema = \"dolar americano\"\n",
    "\n",
    "options = webdriver.ChromeOptions()\n",
    "options.add_argument(\"--start-maximized\")\n",
    "driver = webdriver.Chrome(options=options)\n",
    "\n",
    "#Fazendo pesquisa\n",
    "driver.get(url)\n",
    "search_box = driver.find_element(By.NAME, \"search\")\n",
    "search_box.send_keys(tema)\n",
    "search_box.submit()\n",
    "\n",
    "#Tratando as possíveis páginas resultantes da pesquisa\n",
    "if driver.find_elements(By.XPATH, '//*[@id=\"disambig\"]/table/tbody/tr/td[1]/span/a/img'):\n",
    "    print(\"Página de Desambiguação\")\n",
    "    driver.find_element(By.XPATH, '//*[@id=\"mw-content-text\"]/div[1]/ul/li[1]/a').click()\n",
    "elif driver.find_elements(By.XPATH, '//*[@id=\"firstHeading\"]'):\n",
    "    if driver.find_elements(By.XPATH, '//*[@id=\"firstHeading\"]')[0].text == \"Resultados da pesquisa\":\n",
    "        print(\"Página de pesquisa avançada\")\n",
    "        driver.find_element(By.XPATH, '//*[@id=\"mw-content-text\"]/div[3]/div[4]/ul/li[1]/div[2]/div[2]/div[1]/a').click()\n",
    "    else:\n",
    "        print(\"Página Wiki\")\n",
    "        \n",
    "html = driver.page_source\n",
    "        \n",
    "driver.quit()\n",
    "    "
   ]
  },
  {
   "cell_type": "code",
   "execution_count": 26,
   "metadata": {},
   "outputs": [],
   "source": [
    "html_parsed = BeautifulSoup(html, \"html.parser\")"
   ]
  },
  {
   "cell_type": "code",
   "execution_count": null,
   "metadata": {},
   "outputs": [],
   "source": [
    "tabelas = html_parsed.find_all(\"table\")\n",
    "\n",
    "for tabela in tabelas:\n",
    "    df = pd.read_html(str(tabela))[0]\n",
    "    print(df.head())"
   ]
  }
 ],
 "metadata": {
  "kernelspec": {
   "display_name": "Python 3",
   "language": "python",
   "name": "python3"
  },
  "language_info": {
   "codemirror_mode": {
    "name": "ipython",
    "version": 3
   },
   "file_extension": ".py",
   "mimetype": "text/x-python",
   "name": "python",
   "nbconvert_exporter": "python",
   "pygments_lexer": "ipython3",
   "version": "3.10.12"
  }
 },
 "nbformat": 4,
 "nbformat_minor": 2
}
